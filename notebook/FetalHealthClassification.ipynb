{
  "cells": [
    {
      "cell_type": "markdown",
      "metadata": {
        "colab_type": "text",
        "id": "view-in-github"
      },
      "source": [
        "<a href=\"https://colab.research.google.com/github/analuizasb2/fetal-health-prediction/blob/main/FetalHealthClassification.ipynb\" target=\"_parent\"><img src=\"https://colab.research.google.com/assets/colab-badge.svg\" alt=\"Open In Colab\"/></a>"
      ]
    },
    {
      "cell_type": "markdown",
      "metadata": {
        "id": "MtJbcaTyUFZ-"
      },
      "source": [
        "# Modelo para Classificação de Saúde fetal baseado em dados de Cardiotocografia"
      ]
    },
    {
      "cell_type": "code",
      "execution_count": 1,
      "metadata": {
        "id": "z-LRx0hLT9YA"
      },
      "outputs": [],
      "source": [
        "import pandas as pd\n",
        "import numpy as np\n",
        "import matplotlib.pyplot as plt\n",
        "import pickle\n",
        "from sklearn.model_selection import train_test_split\n",
        "from sklearn.svm import SVC\n",
        "from sklearn.neighbors import KNeighborsClassifier\n",
        "from sklearn.tree import DecisionTreeClassifier\n",
        "from sklearn.naive_bayes import GaussianNB\n",
        "from sklearn.metrics import accuracy_score\n",
        "from sklearn.model_selection import StratifiedKFold\n",
        "from sklearn.model_selection import cross_val_score\n",
        "from sklearn.pipeline import Pipeline\n",
        "from sklearn.preprocessing import StandardScaler\n",
        "from sklearn.preprocessing import MinMaxScaler\n",
        "from sklearn.model_selection import GridSearchCV"
      ]
    },
    {
      "cell_type": "markdown",
      "metadata": {
        "id": "4PW5yYDTEjKg"
      },
      "source": [
        "## Leitura do dataset\n",
        "\n",
        "O conjunto de dados contém dados de 2126 fetos, coletados através do exame de cardiotocografia. Eles foram então classificados por profissionais especializados de obstetrícia em estados de saúde: Saudável (1), Suspeito(2) e Patológico (3). Essa classificação pode ser crucial no momento da definição de conduta obstétrica, principalmente em momentos próximos ao parto."
      ]
    },
    {
      "cell_type": "code",
      "execution_count": 2,
      "metadata": {
        "colab": {
          "base_uri": "https://localhost:8080/",
          "height": 290
        },
        "id": "Zk34tp_6UUzQ",
        "outputId": "1cbfbb65-3fef-4943-dc12-547cd43e857e"
      },
      "outputs": [
        {
          "data": {
            "application/vnd.google.colaboratory.intrinsic+json": {
              "type": "dataframe",
              "variable_name": "df"
            },
            "text/html": [
              "\n",
              "  <div id=\"df-1fd26056-49b8-4bcb-a87a-bb6420352dc4\" class=\"colab-df-container\">\n",
              "    <div>\n",
              "<style scoped>\n",
              "    .dataframe tbody tr th:only-of-type {\n",
              "        vertical-align: middle;\n",
              "    }\n",
              "\n",
              "    .dataframe tbody tr th {\n",
              "        vertical-align: top;\n",
              "    }\n",
              "\n",
              "    .dataframe thead th {\n",
              "        text-align: right;\n",
              "    }\n",
              "</style>\n",
              "<table border=\"1\" class=\"dataframe\">\n",
              "  <thead>\n",
              "    <tr style=\"text-align: right;\">\n",
              "      <th></th>\n",
              "      <th>baseline value</th>\n",
              "      <th>accelerations</th>\n",
              "      <th>fetal_movement</th>\n",
              "      <th>uterine_contractions</th>\n",
              "      <th>light_decelerations</th>\n",
              "      <th>severe_decelerations</th>\n",
              "      <th>prolongued_decelerations</th>\n",
              "      <th>abnormal_short_term_variability</th>\n",
              "      <th>mean_value_of_short_term_variability</th>\n",
              "      <th>percentage_of_time_with_abnormal_long_term_variability</th>\n",
              "      <th>...</th>\n",
              "      <th>histogram_min</th>\n",
              "      <th>histogram_max</th>\n",
              "      <th>histogram_number_of_peaks</th>\n",
              "      <th>histogram_number_of_zeroes</th>\n",
              "      <th>histogram_mode</th>\n",
              "      <th>histogram_mean</th>\n",
              "      <th>histogram_median</th>\n",
              "      <th>histogram_variance</th>\n",
              "      <th>histogram_tendency</th>\n",
              "      <th>fetal_health</th>\n",
              "    </tr>\n",
              "  </thead>\n",
              "  <tbody>\n",
              "    <tr>\n",
              "      <th>0</th>\n",
              "      <td>baseline value</td>\n",
              "      <td>accelerations</td>\n",
              "      <td>fetal_movement</td>\n",
              "      <td>uterine_contractions</td>\n",
              "      <td>light_decelerations</td>\n",
              "      <td>severe_decelerations</td>\n",
              "      <td>prolongued_decelerations</td>\n",
              "      <td>abnormal_short_term_variability</td>\n",
              "      <td>mean_value_of_short_term_variability</td>\n",
              "      <td>percentage_of_time_with_abnormal_long_term_var...</td>\n",
              "      <td>...</td>\n",
              "      <td>histogram_min</td>\n",
              "      <td>histogram_max</td>\n",
              "      <td>histogram_number_of_peaks</td>\n",
              "      <td>histogram_number_of_zeroes</td>\n",
              "      <td>histogram_mode</td>\n",
              "      <td>histogram_mean</td>\n",
              "      <td>histogram_median</td>\n",
              "      <td>histogram_variance</td>\n",
              "      <td>histogram_tendency</td>\n",
              "      <td>fetal_health</td>\n",
              "    </tr>\n",
              "    <tr>\n",
              "      <th>1</th>\n",
              "      <td>120.0</td>\n",
              "      <td>0.0</td>\n",
              "      <td>0.0</td>\n",
              "      <td>0.0</td>\n",
              "      <td>0.0</td>\n",
              "      <td>0.0</td>\n",
              "      <td>0.0</td>\n",
              "      <td>73.0</td>\n",
              "      <td>0.5</td>\n",
              "      <td>43.0</td>\n",
              "      <td>...</td>\n",
              "      <td>62.0</td>\n",
              "      <td>126.0</td>\n",
              "      <td>2.0</td>\n",
              "      <td>0.0</td>\n",
              "      <td>120.0</td>\n",
              "      <td>137.0</td>\n",
              "      <td>121.0</td>\n",
              "      <td>73.0</td>\n",
              "      <td>1.0</td>\n",
              "      <td>2.0</td>\n",
              "    </tr>\n",
              "    <tr>\n",
              "      <th>2</th>\n",
              "      <td>132.0</td>\n",
              "      <td>0.006</td>\n",
              "      <td>0.0</td>\n",
              "      <td>0.006</td>\n",
              "      <td>0.003</td>\n",
              "      <td>0.0</td>\n",
              "      <td>0.0</td>\n",
              "      <td>17.0</td>\n",
              "      <td>2.1</td>\n",
              "      <td>0.0</td>\n",
              "      <td>...</td>\n",
              "      <td>68.0</td>\n",
              "      <td>198.0</td>\n",
              "      <td>6.0</td>\n",
              "      <td>1.0</td>\n",
              "      <td>141.0</td>\n",
              "      <td>136.0</td>\n",
              "      <td>140.0</td>\n",
              "      <td>12.0</td>\n",
              "      <td>0.0</td>\n",
              "      <td>1.0</td>\n",
              "    </tr>\n",
              "    <tr>\n",
              "      <th>3</th>\n",
              "      <td>133.0</td>\n",
              "      <td>0.003</td>\n",
              "      <td>0.0</td>\n",
              "      <td>0.008</td>\n",
              "      <td>0.003</td>\n",
              "      <td>0.0</td>\n",
              "      <td>0.0</td>\n",
              "      <td>16.0</td>\n",
              "      <td>2.1</td>\n",
              "      <td>0.0</td>\n",
              "      <td>...</td>\n",
              "      <td>68.0</td>\n",
              "      <td>198.0</td>\n",
              "      <td>5.0</td>\n",
              "      <td>1.0</td>\n",
              "      <td>141.0</td>\n",
              "      <td>135.0</td>\n",
              "      <td>138.0</td>\n",
              "      <td>13.0</td>\n",
              "      <td>0.0</td>\n",
              "      <td>1.0</td>\n",
              "    </tr>\n",
              "    <tr>\n",
              "      <th>4</th>\n",
              "      <td>134.0</td>\n",
              "      <td>0.003</td>\n",
              "      <td>0.0</td>\n",
              "      <td>0.008</td>\n",
              "      <td>0.003</td>\n",
              "      <td>0.0</td>\n",
              "      <td>0.0</td>\n",
              "      <td>16.0</td>\n",
              "      <td>2.4</td>\n",
              "      <td>0.0</td>\n",
              "      <td>...</td>\n",
              "      <td>53.0</td>\n",
              "      <td>170.0</td>\n",
              "      <td>11.0</td>\n",
              "      <td>0.0</td>\n",
              "      <td>137.0</td>\n",
              "      <td>134.0</td>\n",
              "      <td>137.0</td>\n",
              "      <td>13.0</td>\n",
              "      <td>1.0</td>\n",
              "      <td>1.0</td>\n",
              "    </tr>\n",
              "  </tbody>\n",
              "</table>\n",
              "<p>5 rows × 22 columns</p>\n",
              "</div>\n",
              "    <div class=\"colab-df-buttons\">\n",
              "\n",
              "  <div class=\"colab-df-container\">\n",
              "    <button class=\"colab-df-convert\" onclick=\"convertToInteractive('df-1fd26056-49b8-4bcb-a87a-bb6420352dc4')\"\n",
              "            title=\"Convert this dataframe to an interactive table.\"\n",
              "            style=\"display:none;\">\n",
              "\n",
              "  <svg xmlns=\"http://www.w3.org/2000/svg\" height=\"24px\" viewBox=\"0 -960 960 960\">\n",
              "    <path d=\"M120-120v-720h720v720H120Zm60-500h600v-160H180v160Zm220 220h160v-160H400v160Zm0 220h160v-160H400v160ZM180-400h160v-160H180v160Zm440 0h160v-160H620v160ZM180-180h160v-160H180v160Zm440 0h160v-160H620v160Z\"/>\n",
              "  </svg>\n",
              "    </button>\n",
              "\n",
              "  <style>\n",
              "    .colab-df-container {\n",
              "      display:flex;\n",
              "      gap: 12px;\n",
              "    }\n",
              "\n",
              "    .colab-df-convert {\n",
              "      background-color: #E8F0FE;\n",
              "      border: none;\n",
              "      border-radius: 50%;\n",
              "      cursor: pointer;\n",
              "      display: none;\n",
              "      fill: #1967D2;\n",
              "      height: 32px;\n",
              "      padding: 0 0 0 0;\n",
              "      width: 32px;\n",
              "    }\n",
              "\n",
              "    .colab-df-convert:hover {\n",
              "      background-color: #E2EBFA;\n",
              "      box-shadow: 0px 1px 2px rgba(60, 64, 67, 0.3), 0px 1px 3px 1px rgba(60, 64, 67, 0.15);\n",
              "      fill: #174EA6;\n",
              "    }\n",
              "\n",
              "    .colab-df-buttons div {\n",
              "      margin-bottom: 4px;\n",
              "    }\n",
              "\n",
              "    [theme=dark] .colab-df-convert {\n",
              "      background-color: #3B4455;\n",
              "      fill: #D2E3FC;\n",
              "    }\n",
              "\n",
              "    [theme=dark] .colab-df-convert:hover {\n",
              "      background-color: #434B5C;\n",
              "      box-shadow: 0px 1px 3px 1px rgba(0, 0, 0, 0.15);\n",
              "      filter: drop-shadow(0px 1px 2px rgba(0, 0, 0, 0.3));\n",
              "      fill: #FFFFFF;\n",
              "    }\n",
              "  </style>\n",
              "\n",
              "    <script>\n",
              "      const buttonEl =\n",
              "        document.querySelector('#df-1fd26056-49b8-4bcb-a87a-bb6420352dc4 button.colab-df-convert');\n",
              "      buttonEl.style.display =\n",
              "        google.colab.kernel.accessAllowed ? 'block' : 'none';\n",
              "\n",
              "      async function convertToInteractive(key) {\n",
              "        const element = document.querySelector('#df-1fd26056-49b8-4bcb-a87a-bb6420352dc4');\n",
              "        const dataTable =\n",
              "          await google.colab.kernel.invokeFunction('convertToInteractive',\n",
              "                                                    [key], {});\n",
              "        if (!dataTable) return;\n",
              "\n",
              "        const docLinkHtml = 'Like what you see? Visit the ' +\n",
              "          '<a target=\"_blank\" href=https://colab.research.google.com/notebooks/data_table.ipynb>data table notebook</a>'\n",
              "          + ' to learn more about interactive tables.';\n",
              "        element.innerHTML = '';\n",
              "        dataTable['output_type'] = 'display_data';\n",
              "        await google.colab.output.renderOutput(dataTable, element);\n",
              "        const docLink = document.createElement('div');\n",
              "        docLink.innerHTML = docLinkHtml;\n",
              "        element.appendChild(docLink);\n",
              "      }\n",
              "    </script>\n",
              "  </div>\n",
              "\n",
              "\n",
              "<div id=\"df-c2e3f0a0-0fed-4f45-bfff-8d725859b48c\">\n",
              "  <button class=\"colab-df-quickchart\" onclick=\"quickchart('df-c2e3f0a0-0fed-4f45-bfff-8d725859b48c')\"\n",
              "            title=\"Suggest charts\"\n",
              "            style=\"display:none;\">\n",
              "\n",
              "<svg xmlns=\"http://www.w3.org/2000/svg\" height=\"24px\"viewBox=\"0 0 24 24\"\n",
              "     width=\"24px\">\n",
              "    <g>\n",
              "        <path d=\"M19 3H5c-1.1 0-2 .9-2 2v14c0 1.1.9 2 2 2h14c1.1 0 2-.9 2-2V5c0-1.1-.9-2-2-2zM9 17H7v-7h2v7zm4 0h-2V7h2v10zm4 0h-2v-4h2v4z\"/>\n",
              "    </g>\n",
              "</svg>\n",
              "  </button>\n",
              "\n",
              "<style>\n",
              "  .colab-df-quickchart {\n",
              "      --bg-color: #E8F0FE;\n",
              "      --fill-color: #1967D2;\n",
              "      --hover-bg-color: #E2EBFA;\n",
              "      --hover-fill-color: #174EA6;\n",
              "      --disabled-fill-color: #AAA;\n",
              "      --disabled-bg-color: #DDD;\n",
              "  }\n",
              "\n",
              "  [theme=dark] .colab-df-quickchart {\n",
              "      --bg-color: #3B4455;\n",
              "      --fill-color: #D2E3FC;\n",
              "      --hover-bg-color: #434B5C;\n",
              "      --hover-fill-color: #FFFFFF;\n",
              "      --disabled-bg-color: #3B4455;\n",
              "      --disabled-fill-color: #666;\n",
              "  }\n",
              "\n",
              "  .colab-df-quickchart {\n",
              "    background-color: var(--bg-color);\n",
              "    border: none;\n",
              "    border-radius: 50%;\n",
              "    cursor: pointer;\n",
              "    display: none;\n",
              "    fill: var(--fill-color);\n",
              "    height: 32px;\n",
              "    padding: 0;\n",
              "    width: 32px;\n",
              "  }\n",
              "\n",
              "  .colab-df-quickchart:hover {\n",
              "    background-color: var(--hover-bg-color);\n",
              "    box-shadow: 0 1px 2px rgba(60, 64, 67, 0.3), 0 1px 3px 1px rgba(60, 64, 67, 0.15);\n",
              "    fill: var(--button-hover-fill-color);\n",
              "  }\n",
              "\n",
              "  .colab-df-quickchart-complete:disabled,\n",
              "  .colab-df-quickchart-complete:disabled:hover {\n",
              "    background-color: var(--disabled-bg-color);\n",
              "    fill: var(--disabled-fill-color);\n",
              "    box-shadow: none;\n",
              "  }\n",
              "\n",
              "  .colab-df-spinner {\n",
              "    border: 2px solid var(--fill-color);\n",
              "    border-color: transparent;\n",
              "    border-bottom-color: var(--fill-color);\n",
              "    animation:\n",
              "      spin 1s steps(1) infinite;\n",
              "  }\n",
              "\n",
              "  @keyframes spin {\n",
              "    0% {\n",
              "      border-color: transparent;\n",
              "      border-bottom-color: var(--fill-color);\n",
              "      border-left-color: var(--fill-color);\n",
              "    }\n",
              "    20% {\n",
              "      border-color: transparent;\n",
              "      border-left-color: var(--fill-color);\n",
              "      border-top-color: var(--fill-color);\n",
              "    }\n",
              "    30% {\n",
              "      border-color: transparent;\n",
              "      border-left-color: var(--fill-color);\n",
              "      border-top-color: var(--fill-color);\n",
              "      border-right-color: var(--fill-color);\n",
              "    }\n",
              "    40% {\n",
              "      border-color: transparent;\n",
              "      border-right-color: var(--fill-color);\n",
              "      border-top-color: var(--fill-color);\n",
              "    }\n",
              "    60% {\n",
              "      border-color: transparent;\n",
              "      border-right-color: var(--fill-color);\n",
              "    }\n",
              "    80% {\n",
              "      border-color: transparent;\n",
              "      border-right-color: var(--fill-color);\n",
              "      border-bottom-color: var(--fill-color);\n",
              "    }\n",
              "    90% {\n",
              "      border-color: transparent;\n",
              "      border-bottom-color: var(--fill-color);\n",
              "    }\n",
              "  }\n",
              "</style>\n",
              "\n",
              "  <script>\n",
              "    async function quickchart(key) {\n",
              "      const quickchartButtonEl =\n",
              "        document.querySelector('#' + key + ' button');\n",
              "      quickchartButtonEl.disabled = true;  // To prevent multiple clicks.\n",
              "      quickchartButtonEl.classList.add('colab-df-spinner');\n",
              "      try {\n",
              "        const charts = await google.colab.kernel.invokeFunction(\n",
              "            'suggestCharts', [key], {});\n",
              "      } catch (error) {\n",
              "        console.error('Error during call to suggestCharts:', error);\n",
              "      }\n",
              "      quickchartButtonEl.classList.remove('colab-df-spinner');\n",
              "      quickchartButtonEl.classList.add('colab-df-quickchart-complete');\n",
              "    }\n",
              "    (() => {\n",
              "      let quickchartButtonEl =\n",
              "        document.querySelector('#df-c2e3f0a0-0fed-4f45-bfff-8d725859b48c button');\n",
              "      quickchartButtonEl.style.display =\n",
              "        google.colab.kernel.accessAllowed ? 'block' : 'none';\n",
              "    })();\n",
              "  </script>\n",
              "</div>\n",
              "\n",
              "    </div>\n",
              "  </div>\n"
            ],
            "text/plain": [
              "   baseline value  accelerations  fetal_movement  uterine_contractions  \\\n",
              "0  baseline value  accelerations  fetal_movement  uterine_contractions   \n",
              "1           120.0            0.0             0.0                   0.0   \n",
              "2           132.0          0.006             0.0                 0.006   \n",
              "3           133.0          0.003             0.0                 0.008   \n",
              "4           134.0          0.003             0.0                 0.008   \n",
              "\n",
              "   light_decelerations  severe_decelerations  prolongued_decelerations  \\\n",
              "0  light_decelerations  severe_decelerations  prolongued_decelerations   \n",
              "1                  0.0                   0.0                       0.0   \n",
              "2                0.003                   0.0                       0.0   \n",
              "3                0.003                   0.0                       0.0   \n",
              "4                0.003                   0.0                       0.0   \n",
              "\n",
              "   abnormal_short_term_variability  mean_value_of_short_term_variability  \\\n",
              "0  abnormal_short_term_variability  mean_value_of_short_term_variability   \n",
              "1                             73.0                                   0.5   \n",
              "2                             17.0                                   2.1   \n",
              "3                             16.0                                   2.1   \n",
              "4                             16.0                                   2.4   \n",
              "\n",
              "  percentage_of_time_with_abnormal_long_term_variability  ...  histogram_min  \\\n",
              "0  percentage_of_time_with_abnormal_long_term_var...      ...  histogram_min   \n",
              "1                                               43.0      ...           62.0   \n",
              "2                                                0.0      ...           68.0   \n",
              "3                                                0.0      ...           68.0   \n",
              "4                                                0.0      ...           53.0   \n",
              "\n",
              "   histogram_max  histogram_number_of_peaks  histogram_number_of_zeroes  \\\n",
              "0  histogram_max  histogram_number_of_peaks  histogram_number_of_zeroes   \n",
              "1          126.0                        2.0                         0.0   \n",
              "2          198.0                        6.0                         1.0   \n",
              "3          198.0                        5.0                         1.0   \n",
              "4          170.0                       11.0                         0.0   \n",
              "\n",
              "   histogram_mode  histogram_mean  histogram_median  histogram_variance  \\\n",
              "0  histogram_mode  histogram_mean  histogram_median  histogram_variance   \n",
              "1           120.0           137.0             121.0                73.0   \n",
              "2           141.0           136.0             140.0                12.0   \n",
              "3           141.0           135.0             138.0                13.0   \n",
              "4           137.0           134.0             137.0                13.0   \n",
              "\n",
              "   histogram_tendency  fetal_health  \n",
              "0  histogram_tendency  fetal_health  \n",
              "1                 1.0           2.0  \n",
              "2                 0.0           1.0  \n",
              "3                 0.0           1.0  \n",
              "4                 1.0           1.0  \n",
              "\n",
              "[5 rows x 22 columns]"
            ]
          },
          "execution_count": 2,
          "metadata": {},
          "output_type": "execute_result"
        }
      ],
      "source": [
        "\n",
        "url = \"https://raw.githubusercontent.com/analuizasb2/fetal-health-prediction/main/dataset/fetal_health.csv\"\n",
        "column_names = ['baseline value','accelerations','fetal_movement','uterine_contractions','light_decelerations','severe_decelerations','prolongued_decelerations','abnormal_short_term_variability','mean_value_of_short_term_variability','percentage_of_time_with_abnormal_long_term_variability','mean_value_of_long_term_variability','histogram_width','histogram_min','histogram_max','histogram_number_of_peaks','histogram_number_of_zeroes','histogram_mode','histogram_mean','histogram_median','histogram_variance','histogram_tendency','fetal_health']\n",
        "df = pd.read_csv(url, names=column_names, delimiter=',')\n",
        "df.head()"
      ]
    },
    {
      "cell_type": "markdown",
      "metadata": {
        "id": "p8dCzHkeEeYv"
      },
      "source": [
        "## Separação dos conjuntos de treino e teste"
      ]
    },
    {
      "cell_type": "code",
      "execution_count": 3,
      "metadata": {
        "id": "_A6cZJr9csIr"
      },
      "outputs": [],
      "source": [
        "seed = 1\n",
        "array = df.values\n",
        "X = array[1:,0:21]\n",
        "Y = array[1:,21]\n",
        "\n",
        "Xtrain, Xtest, Ytrain, Ytest = train_test_split(X, Y, test_size=0.20, random_state=seed)\n",
        "\n",
        "kfold = StratifiedKFold(n_splits=10, random_state=seed, shuffle=True)\n",
        "scoring = 'accuracy'"
      ]
    },
    {
      "cell_type": "markdown",
      "metadata": {
        "id": "eSq-fs5SGky_"
      },
      "source": [
        "## Treinamento para seleção do tipo de modelo\n",
        "\n"
      ]
    },
    {
      "cell_type": "code",
      "execution_count": 4,
      "metadata": {
        "colab": {
          "base_uri": "https://localhost:8080/",
          "height": 656
        },
        "id": "iBTTl9J7EcJA",
        "outputId": "85e8ea72-3462-4155-a25d-31cbd2f7dedc"
      },
      "outputs": [
        {
          "name": "stdout",
          "output_type": "stream",
          "text": [
            "          model  accuracy       std\n",
            "0           SVC  0.850588  0.011527\n",
            "1           KNN  0.892353  0.014421\n",
            "2  DecisionTree  0.920000  0.020241\n",
            "3    NaiveBayes  0.808824  0.016056\n"
          ]
        },
        {
          "data": {
            "image/png": "[encoded data removed]",
            "text/plain": [
              "<Figure size 1000x500 with 1 Axes>"
            ]
          },
          "metadata": {},
          "output_type": "display_data"
        }
      ],
      "source": [
        "np.random.seed(1)\n",
        "models = []\n",
        "\n",
        "models.append(('SVC', SVC()))\n",
        "models.append(('KNN', KNeighborsClassifier()))\n",
        "models.append(('DecisionTree', DecisionTreeClassifier()))\n",
        "models.append(('NaiveBayes', GaussianNB()))\n",
        "\n",
        "results = []\n",
        "names = []\n",
        "\n",
        "results_table = {\n",
        "    \"model\": [],\n",
        "    \"accuracy\": [],\n",
        "    \"std\": []\n",
        "}\n",
        "\n",
        "for name, model in models:\n",
        "  cv_results = cross_val_score(model, Xtrain, Ytrain, cv=kfold, scoring=scoring)\n",
        "  results.append(cv_results)\n",
        "  names.append(name)\n",
        "  results_table[\"model\"].append(name)\n",
        "  results_table[\"accuracy\"].append(cv_results.mean())\n",
        "  results_table[\"std\"].append(cv_results.std())\n",
        "\n",
        "\n",
        "df = pd.DataFrame(results_table)\n",
        "print(df)\n",
        "\n",
        "fig = plt.figure(figsize=(10,5))\n",
        "fig.suptitle('Comparação dos Modelos')\n",
        "ax = fig.add_subplot()\n",
        "plt.boxplot(results)\n",
        "ax.set_xticklabels(names, rotation=90)\n",
        "plt.show()"
      ]
    },
    {
      "cell_type": "markdown",
      "metadata": {
        "id": "E6SxjWiOIzIH"
      },
      "source": [
        "## Comparação com dados padronizados e normalizados"
      ]
    },
    {
      "cell_type": "code",
      "execution_count": 5,
      "metadata": {
        "colab": {
          "base_uri": "https://localhost:8080/",
          "height": 1000
        },
        "id": "vj0L3dtqI8bC",
        "outputId": "6bb8e29c-742a-481c-eadb-408b4abfd7a6"
      },
      "outputs": [
        {
          "name": "stdout",
          "output_type": "stream",
          "text": [
            "                model  accuracy       std\n",
            "0                 SVC  0.850588  0.011527\n",
            "1                 KNN  0.892353  0.014421\n",
            "2        DecisionTree  0.920000  0.020241\n",
            "3          NaiveBayes  0.808824  0.016056\n",
            "4            SVC-padr  0.909412  0.015384\n",
            "5            KNN-padr  0.902941  0.016056\n",
            "6   DecisionTree-padr  0.918235  0.021119\n",
            "7     NaiveBayes-padr  0.727059  0.033192\n",
            "8            SVC-norm  0.905882  0.020546\n",
            "9            KNN-norm  0.908235  0.012671\n",
            "10  DecisionTree-norm  0.915294  0.018824\n",
            "11    NaiveBayes-norm  0.746471  0.031287\n"
          ]
        },
        {
          "data": {
            "image/png": "[encoded data removed]",
            "text/plain": [
              "<Figure size 2000x1000 with 1 Axes>"
            ]
          },
          "metadata": {},
          "output_type": "display_data"
        }
      ],
      "source": [
        "np.random.seed(1)\n",
        "\n",
        "svc = (('SVC', SVC()))\n",
        "knn = (('KNN', KNeighborsClassifier()))\n",
        "decision_tree = (('DecisionTree', DecisionTreeClassifier()))\n",
        "naive_bayes = (('NaiveBayes', GaussianNB()))\n",
        "\n",
        "standard_scaler = ('StandardScaler', StandardScaler())\n",
        "min_max_scaler = ('MinMaxScaler', MinMaxScaler())\n",
        "\n",
        "pipelines = []\n",
        "\n",
        "pipelines.append(('SVC', Pipeline([svc])))\n",
        "pipelines.append(('KNN', Pipeline([knn])))\n",
        "pipelines.append(('DecisionTree', Pipeline([decision_tree])))\n",
        "pipelines.append(('NaiveBayes', Pipeline([naive_bayes])))\n",
        "\n",
        "pipelines.append(('SVC-padr', Pipeline([standard_scaler, svc])))\n",
        "pipelines.append(('KNN-padr', Pipeline([standard_scaler, knn])))\n",
        "pipelines.append(('DecisionTree-padr', Pipeline([standard_scaler, decision_tree])))\n",
        "pipelines.append(('NaiveBayes-padr', Pipeline([standard_scaler, naive_bayes])))\n",
        "\n",
        "pipelines.append(('SVC-norm', Pipeline([min_max_scaler, svc])))\n",
        "pipelines.append(('KNN-norm', Pipeline([min_max_scaler, knn])))\n",
        "pipelines.append(('DecisionTree-norm', Pipeline([min_max_scaler, decision_tree])))\n",
        "pipelines.append(('NaiveBayes-norm', Pipeline([min_max_scaler, naive_bayes])))\n",
        "\n",
        "results_table = {\n",
        "    \"model\": [],\n",
        "    \"accuracy\": [],\n",
        "    \"std\": []\n",
        "}\n",
        "results = []\n",
        "names = []\n",
        "\n",
        "for name, pipeline in pipelines:\n",
        "  cv_results = cross_val_score(pipeline, Xtrain, Ytrain, cv=kfold, scoring=scoring)\n",
        "  results.append(cv_results)\n",
        "  names.append(name)\n",
        "  results_table[\"model\"].append(name)\n",
        "  results_table[\"accuracy\"].append(cv_results.mean())\n",
        "  results_table[\"std\"].append(cv_results.std())\n",
        "\n",
        "\n",
        "df = pd.DataFrame(results_table)\n",
        "print(df)\n",
        "\n",
        "fig = plt.figure(figsize=(20,10))\n",
        "fig.suptitle('Comparação dos Modelos')\n",
        "ax = fig.add_subplot()\n",
        "plt.boxplot(results)\n",
        "ax.set_xticklabels(names, rotation=90)\n",
        "plt.show()"
      ]
    },
    {
      "cell_type": "markdown",
      "metadata": {
        "id": "2RNr9jz7kXyI"
      },
      "source": [
        "## Otimização de hiperparâmetros"
      ]
    },
    {
      "cell_type": "code",
      "execution_count": 6,
      "metadata": {
        "colab": {
          "base_uri": "https://localhost:8080/"
        },
        "id": "Ifs1YKS_kago",
        "outputId": "c8413b6d-dbf1-4240-aee8-71581260ac1a"
      },
      "outputs": [
        {
          "name": "stdout",
          "output_type": "stream",
          "text": [
            "DecisionTree 0.9241176470588236 {'DecisionTree__max_depth': 30, 'DecisionTree__min_samples_leaf': 2, 'DecisionTree__min_samples_split': 5}\n",
            "DecisionTree-norm 0.9241176470588236 {'DecisionTree__max_depth': 30, 'DecisionTree__min_samples_leaf': 2, 'DecisionTree__min_samples_split': 5}\n",
            "DecisionTree-padr 0.9270588235294118 {'DecisionTree__max_depth': 30, 'DecisionTree__min_samples_leaf': 2, 'DecisionTree__min_samples_split': 2}\n"
          ]
        }
      ],
      "source": [
        "np.random.seed(1)\n",
        "\n",
        "pipelines = []\n",
        "\n",
        "pipelines.append(('DecisionTree', Pipeline(steps=[decision_tree])))\n",
        "pipelines.append(('DecisionTree-norm', Pipeline(steps=[min_max_scaler, decision_tree])))\n",
        "pipelines.append(('DecisionTree-padr', Pipeline(steps=[standard_scaler, decision_tree])))\n",
        "\n",
        "param_grid = {\n",
        "    'DecisionTree__max_depth': [10, 20, 30],\n",
        "    'DecisionTree__min_samples_split': [2, 5, 10, 15],\n",
        "    'DecisionTree__min_samples_leaf': [1, 2, 4, 8]\n",
        "}\n",
        "\n",
        "for name, model in pipelines:\n",
        "  grid = GridSearchCV(estimator=model, param_grid=param_grid, cv=kfold, scoring=scoring)\n",
        "  grid.fit(Xtrain, Ytrain)\n",
        "  print(name, grid.best_score_, grid.best_params_)"
      ]
    },
    {
      "cell_type": "markdown",
      "metadata": {
        "id": "PjGdokynqWKr"
      },
      "source": [
        "## Teste com holdout"
      ]
    },
    {
      "cell_type": "code",
      "execution_count": 8,
      "metadata": {
        "colab": {
          "base_uri": "https://localhost:8080/"
        },
        "id": "0Ux_Godnqciz",
        "outputId": "cc0d8ba0-5390-4d02-c613-cf913a8bf727"
      },
      "outputs": [
        {
          "name": "stdout",
          "output_type": "stream",
          "text": [
            "0.9014084507042254\n"
          ]
        }
      ],
      "source": [
        "np.random.seed(1)\n",
        "\n",
        "scaler = StandardScaler().fit(Xtrain)\n",
        "Xtrain_scaled = scaler.transform(Xtrain)\n",
        "\n",
        "model = DecisionTreeClassifier(max_depth=30, min_samples_leaf=2, min_samples_split=2)\n",
        "model.fit(Xtrain_scaled, Ytrain)\n",
        "\n",
        "Xtest_scaled = scaler.transform(Xtest)\n",
        "result = model.predict(Xtest_scaled)\n",
        "\n",
        "print(accuracy_score(Ytest, result))\n"
      ]
    },
    {
      "cell_type": "markdown",
      "metadata": {
        "id": "fHwR-otdtyFJ"
      },
      "source": [
        "## Ajuste do modelo final para todo o conjunto de dados"
      ]
    },
    {
      "cell_type": "code",
      "execution_count": 9,
      "metadata": {
        "id": "xKGJOjrdtxz_"
      },
      "outputs": [],
      "source": [
        "scaler = StandardScaler().fit(X)\n",
        "X_scaled = scaler.transform(X)\n",
        "\n",
        "model.fit(X_scaled, Y)\n",
        "\n",
        "filename = 'standardscaler_fetalhealth.pkl'\n",
        "pickle.dump(scaler, open(filename, 'wb'))\n",
        "\n",
        "filename = 'model_fetalhealth.pkl'\n",
        "pickle.dump(model, open(filename, 'wb'))"
      ]
    },
    {
      "cell_type": "markdown",
      "metadata": {
        "id": "LpsKqXq8ykPa"
      },
      "source": [
        "## Conclusões da análise\n",
        "\n",
        "O conjunto de dados de saúde fetal foi melhor classificado utilizando-se algoritmos de **árvore de decisão**. Com a padronização dos dados utilizando este modelo, observou-se melhor acurácia e um baixo desvio padrão, sendo assim este o modelo que realizou as melhores predições.\n",
        "\n",
        "Após a otimização dos hiperparâmetros, o modelo padronizado continuou com a melhor acurárcia, sendo esta otimizada quando a Profundidade Máxima da árvore era 30, o Número mínimo de amostras para dividir um nó era 2 e o Número mínimo de amostras para um nó folha era 2.\n",
        "\n",
        "Portanto, este modelo apresentou a melhor capacidade de predição se o estado de saúde do feto era Saudável (1), Suspeito (2) ou Patológico (3), sendo assim um potencial aliado a profissionais de saúde na intepretação de resultados quando na avaliação de gestantes através do exame de cardiotocografia."
      ]
    },
    {
      "cell_type": "markdown",
      "metadata": {
        "id": "c4m7sk6gsQZP"
      },
      "source": []
    }
  ],
  "metadata": {
    "colab": {
      "authorship_tag": "ABX9TyPDe3u4ef6+SLD0/g2jfCIx",
      "include_colab_link": true,
      "provenance": []
    },
    "kernelspec": {
      "display_name": "Python 3",
      "name": "python3"
    },
    "language_info": {
      "name": "python"
    }
  },
  "nbformat": 4,
  "nbformat_minor": 0
}
